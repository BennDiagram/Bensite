{
 "cells": [
  {
   "cell_type": "code",
   "execution_count": 5,
   "metadata": {},
   "outputs": [
    {
     "name": "stdout",
     "output_type": "stream",
     "text": [
      "Requirement already satisfied: pillow in c:\\users\\ben\\appdata\\local\\packages\\pythonsoftwarefoundation.python.3.11_qbz5n2kfra8p0\\localcache\\local-packages\\python311\\site-packages (10.3.0)Note: you may need to restart the kernel to use updated packages.\n",
      "\n"
     ]
    }
   ],
   "source": [
    "pip install pillow"
   ]
  },
  {
   "cell_type": "code",
   "execution_count": 2,
   "metadata": {},
   "outputs": [],
   "source": [
    "from PIL import Image\n",
    "import os"
   ]
  },
  {
   "cell_type": "code",
   "execution_count": 3,
   "metadata": {},
   "outputs": [],
   "source": [
    "def make_lowres(input_dir, output_dir, scale_factor=.1):\n",
    "    if not os.path.exists(output_dir):\n",
    "        os.makedirs(output_dir)\n",
    "    \n",
    "    for filename in os.listdir(input_dir):\n",
    "        if filename.endswith((\".jpg\", \".jpeg\", \".png\")):\n",
    "            img_path = os.path.join(input_dir, filename)\n",
    "            output_path = os.path.join(output_dir, filename)\n",
    "            if os.path.exists(output_path):\n",
    "                print(\"low res version already exists\")\n",
    "            else: \n",
    "                img = Image.open(img_path)\n",
    "                new_size = (int(img.width * scale_factor), int(img.height * scale_factor))\n",
    "                img_resized = img.resize(new_size)\n",
    "\n",
    "                output_path = os.path.join(output_dir, filename)\n",
    "                img_resized.save(output_path)\n",
    "                print(f\"Saved low res image to {output_path}\")\n",
    "\n",
    "\n"
   ]
  },
  {
   "cell_type": "code",
   "execution_count": 4,
   "metadata": {},
   "outputs": [
    {
     "ename": "NotADirectoryError",
     "evalue": "[WinError 267] The directory name is invalid: 'c:/Users/Ben/repos/FunkySite/funkylamp/public/flbkg.png'",
     "output_type": "error",
     "traceback": [
      "\u001b[1;31m---------------------------------------------------------------------------\u001b[0m",
      "\u001b[1;31mNotADirectoryError\u001b[0m                        Traceback (most recent call last)",
      "Cell \u001b[1;32mIn[4], line 3\u001b[0m\n\u001b[0;32m      1\u001b[0m input_directory \u001b[38;5;241m=\u001b[39m \u001b[38;5;124m'\u001b[39m\u001b[38;5;124mc:/Users/Ben/repos/FunkySite/funkylamp/public/flbkg.png\u001b[39m\u001b[38;5;124m'\u001b[39m\n\u001b[0;32m      2\u001b[0m output_directory \u001b[38;5;241m=\u001b[39m \u001b[38;5;124m'\u001b[39m\u001b[38;5;124mc:/Users/Ben/repos/FunkySite/funkylamp/public/\u001b[39m\u001b[38;5;124m'\u001b[39m\n\u001b[1;32m----> 3\u001b[0m \u001b[43mmake_lowres\u001b[49m\u001b[43m(\u001b[49m\u001b[43minput_directory\u001b[49m\u001b[43m,\u001b[49m\u001b[43m \u001b[49m\u001b[43moutput_directory\u001b[49m\u001b[43m)\u001b[49m\n",
      "Cell \u001b[1;32mIn[3], line 5\u001b[0m, in \u001b[0;36mmake_lowres\u001b[1;34m(input_dir, output_dir, scale_factor)\u001b[0m\n\u001b[0;32m      2\u001b[0m \u001b[38;5;28;01mif\u001b[39;00m \u001b[38;5;129;01mnot\u001b[39;00m os\u001b[38;5;241m.\u001b[39mpath\u001b[38;5;241m.\u001b[39mexists(output_dir):\n\u001b[0;32m      3\u001b[0m     os\u001b[38;5;241m.\u001b[39mmakedirs(output_dir)\n\u001b[1;32m----> 5\u001b[0m \u001b[38;5;28;01mfor\u001b[39;00m filename \u001b[38;5;129;01min\u001b[39;00m \u001b[43mos\u001b[49m\u001b[38;5;241;43m.\u001b[39;49m\u001b[43mlistdir\u001b[49m\u001b[43m(\u001b[49m\u001b[43minput_dir\u001b[49m\u001b[43m)\u001b[49m:\n\u001b[0;32m      6\u001b[0m     \u001b[38;5;28;01mif\u001b[39;00m filename\u001b[38;5;241m.\u001b[39mendswith((\u001b[38;5;124m\"\u001b[39m\u001b[38;5;124m.jpg\u001b[39m\u001b[38;5;124m\"\u001b[39m, \u001b[38;5;124m\"\u001b[39m\u001b[38;5;124m.jpeg\u001b[39m\u001b[38;5;124m\"\u001b[39m, \u001b[38;5;124m\"\u001b[39m\u001b[38;5;124m.png\u001b[39m\u001b[38;5;124m\"\u001b[39m)):\n\u001b[0;32m      7\u001b[0m         img_path \u001b[38;5;241m=\u001b[39m os\u001b[38;5;241m.\u001b[39mpath\u001b[38;5;241m.\u001b[39mjoin(input_dir, filename)\n",
      "\u001b[1;31mNotADirectoryError\u001b[0m: [WinError 267] The directory name is invalid: 'c:/Users/Ben/repos/FunkySite/funkylamp/public/flbkg.png'"
     ]
    }
   ],
   "source": [
    "input_directory = 'c:/Users/Ben/repos/FunkySite/funkylamp/media/concert-gallery'\n",
    "output_directory = 'c:/Users/Ben/repos/FunkySite/funkylamp/media/concert-gallery-lowres'\n",
    "make_lowres(input_directory, output_directory)"
   ]
  },
  {
   "cell_type": "code",
   "execution_count": 35,
   "metadata": {},
   "outputs": [],
   "source": [
    "def indv_lowres(input_filepath, scale_factor=.6):  \n",
    "    if input_filepath.endswith((\".jpg\",\".png\",\".jpeg\")):\n",
    "        path, filename = os.path.split(input_filepath)\n",
    "        name, ext = os.path.splitext(filename)\n",
    "        output_filename = f\"{name}_lowres-{scale_factor}{ext}\"\n",
    "        output_path = os.path.join(path, output_filename)\n",
    "        if os.path.exists(output_path):\n",
    "            print(\"low res version already exists\")\n",
    "        else:\n",
    "            img=Image.open(input_filepath)\n",
    "            new_size=(int(img.width * scale_factor), int(img.height * scale_factor))\n",
    "            img_resized = img.resize(new_size)\n",
    "            print(output_path)\n",
    "            img_resized.save(output_path)\n",
    "            print(f\"Saved low res image to {output_path}\")\n",
    "\n",
    "\n"
   ]
  },
  {
   "cell_type": "code",
   "execution_count": 36,
   "metadata": {},
   "outputs": [
    {
     "name": "stdout",
     "output_type": "stream",
     "text": [
      "c:/Users/Ben/repos/FunkySite/funkylamp/public\\flbkg_lowres-0.6.png\n",
      "Saved low res image to c:/Users/Ben/repos/FunkySite/funkylamp/public\\flbkg_lowres-0.6.png\n"
     ]
    }
   ],
   "source": [
    "input_filepath = \"c:/Users/Ben/repos/FunkySite/funkylamp/public/flbkg.png\"\n",
    "indv_lowres(input_filepath)"
   ]
  },
  {
   "cell_type": "code",
   "execution_count": null,
   "metadata": {},
   "outputs": [],
   "source": []
  },
  {
   "cell_type": "code",
   "execution_count": null,
   "metadata": {},
   "outputs": [],
   "source": []
  }
 ],
 "metadata": {
  "kernelspec": {
   "display_name": "Python 3",
   "language": "python",
   "name": "python3"
  },
  "language_info": {
   "codemirror_mode": {
    "name": "ipython",
    "version": 3
   },
   "file_extension": ".py",
   "mimetype": "text/x-python",
   "name": "python",
   "nbconvert_exporter": "python",
   "pygments_lexer": "ipython3",
   "version": "3.11.9"
  }
 },
 "nbformat": 4,
 "nbformat_minor": 2
}
